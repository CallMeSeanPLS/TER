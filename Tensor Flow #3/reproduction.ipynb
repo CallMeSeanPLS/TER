{
 "cells": [
  {
   "cell_type": "code",
   "execution_count": 4,
   "metadata": {
    "collapsed": true,
    "deletable": true,
    "editable": true
   },
   "outputs": [],
   "source": [
    "import tensorflow as tf, numpy as np, pandas"
   ]
  },
  {
   "cell_type": "code",
   "execution_count": 5,
   "metadata": {
    "collapsed": true,
    "deletable": true,
    "editable": true
   },
   "outputs": [],
   "source": [
    "# Fonction d'initialisation des variables de poids\n",
    "def init_weights(shape):\n",
    "    return tf.Variable(tf.random_normal(shape, stddev=0.01))"
   ]
  },
  {
   "cell_type": "code",
   "execution_count": 54,
   "metadata": {
    "collapsed": true,
    "deletable": true,
    "editable": true
   },
   "outputs": [],
   "source": [
    "# Notre modèle sera, d'après l'article, sur une architecture 40 - 41 - 41 - 4\n",
    "# <inputs> - 40\n",
    "# <hidden> - 41\n",
    "# <hidden> - 41\n",
    "# <output> -  4\n",
    "def model(X, w_h1, w_h2, w_o, p_keep_input=1., p_keep_hidden=1.): \n",
    "    # =====================================================================================================\n",
    "    # X    : les inputs, shape [n x 40]\n",
    "    # w_h1 : les poids du premier hidden layer, shape [40 x 41]\n",
    "    # w_h2 : les poids du second hidden layer, shape [41 x 41]\n",
    "    # w_o  : les poids du layer d'output, shape [41 x 4]\n",
    "    # vérification : [n x 40] [40 x 41] [41 x 41] [41 x 4] = [n x 4]\n",
    "    # =====================================================================================================\n",
    "    \n",
    "    X = tf.nn.dropout(X, p_keep_input)\n",
    "    # --> dropout désactive certains neuronnes avec une certaine probabilité pour empêcher l'over-fitting\n",
    "    h1 = tf.nn.relu(tf.matmul(X, w_h1)) # relu ? Un type de neuronnes, mais pas tout compris.\n",
    "    h1 = tf.nn.dropout(h1, p_keep_hidden)\n",
    "    \n",
    "    h2 = tf.nn.relu(tf.matmul(h1, w_h2))\n",
    "    h2 = tf.nn.dropout(h2, p_keep_hidden)\n",
    "\n",
    "    return tf.matmul(h2, w_o)"
   ]
  },
  {
   "cell_type": "code",
   "execution_count": 4,
   "metadata": {
    "collapsed": false,
    "deletable": true,
    "editable": true
   },
   "outputs": [
    {
     "name": "stdout",
     "output_type": "stream",
     "text": [
      "         Date      Open      High       Low     Close      Volume  Adj Close\n",
      "0  2011-04-01  12321.02  12454.52  12301.11  12376.72  4223740000   12376.72\n",
      "1  2011-03-31  12350.84  12422.96  12277.05  12319.73  3566270000   12319.73\n",
      "2  2011-03-30  12280.07  12413.43  12271.52  12350.61  3809570000   12350.61\n",
      "3  2011-03-29  12193.87  12310.35  12141.65  12279.01  3482580000   12279.01\n",
      "4  2011-03-28  12221.19  12272.92  12197.88  12197.88  3215170000   12197.88\n"
     ]
    }
   ],
   "source": [
    "# Bon, ici, on charge les données qui vont nous servir pour les tests.\n",
    "# Quatre indices : Dow, Nasdaq, Rates, SNP500\n",
    "Dow = pandas.read_csv(\"dow.csv\", sep=\",\")\n",
    "print(Dow[:5]) # Donc le Dow ressemble à ça"
   ]
  },
  {
   "cell_type": "code",
   "execution_count": 5,
   "metadata": {
    "collapsed": false,
    "deletable": true,
    "editable": true
   },
   "outputs": [
    {
     "name": "stdout",
     "output_type": "stream",
     "text": [
      "         Date     Open     High      Low    Close      Volume  Adj Close\n",
      "0  2011-04-01  2796.67  2802.63  2779.71  2789.60  2090120000    2789.60\n",
      "1  2011-03-31  2774.23  2783.98  2769.52  2781.07  1896420000    2781.07\n",
      "2  2011-03-30  2772.36  2779.95  2763.77  2776.79  1818410000    2776.79\n",
      "3  2011-03-29  2727.83  2756.89  2720.19  2756.89  1631160000    2756.89\n",
      "4  2011-03-28  2752.33  2754.63  2730.68  2730.68  1669260000    2730.68\n"
     ]
    }
   ],
   "source": [
    "Nasdaq = pandas.read_csv(\"nasdaq.csv\", sep=\",\")\n",
    "print(Nasdaq[:5])"
   ]
  },
  {
   "cell_type": "code",
   "execution_count": 6,
   "metadata": {
    "collapsed": false,
    "deletable": true,
    "editable": true
   },
   "outputs": [
    {
     "name": "stdout",
     "output_type": "stream",
     "text": [
      "         Date     Open     High      Low    Close      Volume  Adj Close\n",
      "0  2011-04-01  1329.48  1337.85  1328.89  1332.41  4223740000    1332.41\n",
      "1  2011-03-31  1327.44  1329.77  1325.03  1325.83  3566270000    1325.83\n",
      "2  2011-03-30  1321.89  1331.74  1321.89  1328.26  3809570000    1328.26\n",
      "3  2011-03-29  1309.37  1319.45  1305.26  1319.44  3482580000    1319.44\n",
      "4  2011-03-28  1315.45  1319.74  1310.19  1310.19  2465820000    1310.19\n"
     ]
    }
   ],
   "source": [
    "SnP500 = pandas.read_csv(\"SP500.csv\", sep=\",\")\n",
    "print(SnP500[:5])"
   ]
  },
  {
   "cell_type": "code",
   "execution_count": 7,
   "metadata": {
    "collapsed": false,
    "deletable": true,
    "editable": true
   },
   "outputs": [
    {
     "name": "stdout",
     "output_type": "stream",
     "text": [
      "      date  prime\n",
      "0  1970-01   8.50\n",
      "1  1970-02   8.50\n",
      "2  1970-03   8.39\n",
      "3  1970-04   8.00\n",
      "4  1970-05   8.00\n"
     ]
    }
   ],
   "source": [
    "Rates = pandas.read_csv(\"rates.csv\", sep=\",\")\n",
    "print(Rates[:5])"
   ]
  },
  {
   "cell_type": "code",
   "execution_count": 8,
   "metadata": {
    "collapsed": false,
    "deletable": true,
    "editable": true
   },
   "outputs": [
    {
     "name": "stdout",
     "output_type": "stream",
     "text": [
      "   Dow : 145033\n",
      "Nasdaq : 70917\n",
      "SnP500 : 107877\n",
      " Rates : 988\n"
     ]
    }
   ],
   "source": [
    "# On observe déjà quelques soucis au niveau de l'index Rates. Ensuite, les autres indexs sont de même formats\n",
    "# mais pas de même taille / avec les mêmes dates\n",
    "indexes = (\"Dow\", \"Nasdaq\", \"SnP500\", \"Rates\")\n",
    "for var in indexes:\n",
    "    print(\"{} : {}\".format(var.rjust(6), eval(var).size))"
   ]
  },
  {
   "cell_type": "code",
   "execution_count": 54,
   "metadata": {
    "collapsed": false,
    "deletable": true,
    "editable": true,
    "scrolled": true
   },
   "outputs": [
    {
     "ename": "AttributeError",
     "evalue": "'DataFrame' object has no attribute 'header'",
     "output_type": "error",
     "traceback": [
      "\u001b[0;31m---------------------------------------------------------------------------\u001b[0m",
      "\u001b[0;31mAttributeError\u001b[0m                            Traceback (most recent call last)",
      "\u001b[0;32m<ipython-input-54-e8c37df06be0>\u001b[0m in \u001b[0;36m<module>\u001b[0;34m()\u001b[0m\n\u001b[1;32m     19\u001b[0m             \u001b[0mfloat\u001b[0m\u001b[0;34m(\u001b[0m\u001b[0mRates\u001b[0m\u001b[0;34m.\u001b[0m\u001b[0mloc\u001b[0m\u001b[0;34m[\u001b[0m\u001b[0mRates\u001b[0m\u001b[0;34m[\u001b[0m\u001b[0;34m'date'\u001b[0m\u001b[0;34m]\u001b[0m \u001b[0;34m==\u001b[0m \u001b[0mdate\u001b[0m\u001b[0;34m[\u001b[0m\u001b[0;34m:\u001b[0m\u001b[0;34m-\u001b[0m\u001b[0;36m3\u001b[0m\u001b[0;34m]\u001b[0m\u001b[0;34m,\u001b[0m \u001b[0;34m'prime'\u001b[0m\u001b[0;34m]\u001b[0m\u001b[0;34m)\u001b[0m\u001b[0;34m\u001b[0m\u001b[0m\n\u001b[1;32m     20\u001b[0m         ]\n\u001b[0;32m---> 21\u001b[0;31m \u001b[0mprint\u001b[0m\u001b[0;34m(\u001b[0m\u001b[0mdatas\u001b[0m\u001b[0;34m.\u001b[0m\u001b[0mheader\u001b[0m\u001b[0;34m(\u001b[0m\u001b[0;34m)\u001b[0m\u001b[0;34m)\u001b[0m\u001b[0;34m\u001b[0m\u001b[0m\n\u001b[0m",
      "\u001b[0;32m/usr/lib64/python3.5/site-packages/pandas/core/generic.py\u001b[0m in \u001b[0;36m__getattr__\u001b[0;34m(self, name)\u001b[0m\n\u001b[1;32m   2742\u001b[0m             \u001b[0;32mif\u001b[0m \u001b[0mname\u001b[0m \u001b[0;32min\u001b[0m \u001b[0mself\u001b[0m\u001b[0;34m.\u001b[0m\u001b[0m_info_axis\u001b[0m\u001b[0;34m:\u001b[0m\u001b[0;34m\u001b[0m\u001b[0m\n\u001b[1;32m   2743\u001b[0m                 \u001b[0;32mreturn\u001b[0m \u001b[0mself\u001b[0m\u001b[0;34m[\u001b[0m\u001b[0mname\u001b[0m\u001b[0;34m]\u001b[0m\u001b[0;34m\u001b[0m\u001b[0m\n\u001b[0;32m-> 2744\u001b[0;31m             \u001b[0;32mreturn\u001b[0m \u001b[0mobject\u001b[0m\u001b[0;34m.\u001b[0m\u001b[0m__getattribute__\u001b[0m\u001b[0;34m(\u001b[0m\u001b[0mself\u001b[0m\u001b[0;34m,\u001b[0m \u001b[0mname\u001b[0m\u001b[0;34m)\u001b[0m\u001b[0;34m\u001b[0m\u001b[0m\n\u001b[0m\u001b[1;32m   2745\u001b[0m \u001b[0;34m\u001b[0m\u001b[0m\n\u001b[1;32m   2746\u001b[0m     \u001b[0;32mdef\u001b[0m \u001b[0m__setattr__\u001b[0m\u001b[0;34m(\u001b[0m\u001b[0mself\u001b[0m\u001b[0;34m,\u001b[0m \u001b[0mname\u001b[0m\u001b[0;34m,\u001b[0m \u001b[0mvalue\u001b[0m\u001b[0;34m)\u001b[0m\u001b[0;34m:\u001b[0m\u001b[0;34m\u001b[0m\u001b[0m\n",
      "\u001b[0;31mAttributeError\u001b[0m: 'DataFrame' object has no attribute 'header'"
     ]
    }
   ],
   "source": [
    "# Pour gérer ça, on va créer une nouvelle table.\n",
    "# L'algorithme est simple : nous allons faire une intersection des données, pour ne pas avoir de jour présent\n",
    "# dans une base, mais pas dans l'autre.\n",
    "# A partir de là, il suffit de parcourir la base la moins fournie et de vérifier à chaque étape si la date\n",
    "# est présente dans les autres. Si oui, on rajoute l'entrée complètement renseignée\n",
    "\n",
    "# C'est le Nasdaq qui a le moins d'entrées.\n",
    "# Autre info : on garde seulement la valeur de close des indices complets\n",
    "datas = pandas.DataFrame(columns=['Date','Nasdaq', 'Dow', 'S&P500', 'Rates'])\n",
    "\n",
    "# Constructing the dates in reverse order (du coup, chronologique)\n",
    "for date in Nasdaq['Date'][::-1]:\n",
    "    if date in Dow['Date'].values and date in SnP500['Date'].values and date[:-3] in Rates['date'].values:\n",
    "        datas.loc[len(datas)] = [\n",
    "            date, \n",
    "            float(Dow.loc[Dow['Date'] == date, 'Close']),\n",
    "            float(Nasdaq.loc[Nasdaq['Date'] == date, 'Close']),\n",
    "            float(SnP500.loc[SnP500['Date'] == date, 'Close']),\n",
    "            float(Rates.loc[Rates['date'] == date[:-3], 'prime'])\n",
    "        ]"
   ]
  },
  {
   "cell_type": "code",
   "execution_count": 58,
   "metadata": {
    "collapsed": false,
    "deletable": true,
    "editable": true
   },
   "outputs": [
    {
     "name": "stdout",
     "output_type": "stream",
     "text": [
      "         Date  Nasdaq     Dow  S&P500  Rates\n",
      "0  1971-02-05  876.57  100.00   96.93   5.88\n",
      "1  1971-02-08  882.12  100.84   97.45   5.88\n",
      "2  1971-02-09  879.79  100.76   97.51   5.88\n",
      "3  1971-02-10  881.09  100.69   97.39   5.88\n",
      "4  1971-02-11  885.34  101.45   97.91   5.88\n"
     ]
    }
   ],
   "source": [
    "print(datas.head())"
   ]
  },
  {
   "cell_type": "code",
   "execution_count": 60,
   "metadata": {
    "collapsed": false,
    "deletable": true,
    "editable": true
   },
   "outputs": [],
   "source": [
    "# Maintenant que c'est fait, on sauvegarde en csv\n",
    "datas.to_csv('datas.csv', sep=',', index=False)"
   ]
  },
  {
   "cell_type": "code",
   "execution_count": 22,
   "metadata": {
    "collapsed": false,
    "deletable": true,
    "editable": true
   },
   "outputs": [
    {
     "name": "stdout",
     "output_type": "stream",
     "text": [
      "         Date  Nasdaq     Dow  S&P500  Rates\n",
      "0  1971-02-05  876.57  100.00   96.93   5.88\n",
      "1  1971-02-08  882.12  100.84   97.45   5.88\n",
      "2  1971-02-09  879.79  100.76   97.51   5.88\n",
      "3  1971-02-10  881.09  100.69   97.39   5.88\n",
      "4  1971-02-11  885.34  101.45   97.91   5.88\n",
      "         Date    Nasdaq       Dow    S&P500     Rates\n",
      "0  1971-02-05  0.022004  0.009037  0.023056  0.152464\n",
      "1  1971-02-08  0.022413  0.009206  0.023402  0.152464\n",
      "2  1971-02-09  0.022241  0.009189  0.023442  0.152464\n",
      "3  1971-02-10  0.022337  0.009175  0.023362  0.152464\n",
      "4  1971-02-11  0.022650  0.009328  0.023708  0.152464\n"
     ]
    }
   ],
   "source": [
    "# Ici commence le traitement des données\n",
    "# Selon l'article que nous essayons de reproduire, nous allons appliquer une normalisation des données dans [0, 1]\n",
    "\n",
    "# La formule est la suivante : Index(x) = (Index(x) - Min(Index))/(Max(Index) - Min(Index))\n",
    "processed = pandas.read_csv(\"datas.csv\", sep=\",\")\n",
    "print(processed.head())\n",
    "\n",
    "for index in 'Nasdaq Dow S&P500 Rates'.split():\n",
    "    M = max(processed.loc[:, index])\n",
    "    m = min(processed.loc[:, index])\n",
    "    for i in range(len(processed)):\n",
    "        processed.loc[i, index] = (processed.loc[i, index] - m) / (M - m)\n",
    "print(processed.head())"
   ]
  },
  {
   "cell_type": "code",
   "execution_count": 23,
   "metadata": {
    "collapsed": true,
    "deletable": true,
    "editable": true
   },
   "outputs": [],
   "source": [
    "# On sauvegarde les données <processed>\n",
    "processed.to_csv('processed.csv', sep=',', index=False)"
   ]
  },
  {
   "cell_type": "code",
   "execution_count": 24,
   "metadata": {
    "collapsed": false,
    "deletable": true,
    "editable": true
   },
   "outputs": [],
   "source": [
    "# Ici on les re-charge, au cas où\n",
    "processed = pandas.read_csv(\"processed.csv\", sep=\",\")"
   ]
  },
  {
   "cell_type": "code",
   "execution_count": 28,
   "metadata": {
    "collapsed": false,
    "deletable": true,
    "editable": true
   },
   "outputs": [
    {
     "name": "stdout",
     "output_type": "stream",
     "text": [
      "[ 0.02264971  0.02290657  0.0229971   0.02283592  0.0226291   0.0221507\n",
      "  0.02144561  0.02152068  0.02193431  0.02240241  0.00932766  0.00944781\n",
      "  0.00947584  0.00938573  0.00932165  0.00917747  0.00897322  0.00898123\n",
      "  0.00916546  0.0092836   0.02370797  0.02405398  0.02420702  0.02390094\n",
      "  0.02347508  0.02292946  0.02225076  0.02249696  0.02292281  0.02307585\n",
      "  0.15246377  0.15246377  0.15246377  0.15246377  0.15246377  0.15246377\n",
      "  0.15246377  0.15246377  0.15246377  0.15246377]\n",
      "[ 0.02217057  0.00930563  0.02293612  0.15246377]\n"
     ]
    }
   ],
   "source": [
    "# Il reste encore quelques efforts sur les données\n",
    "# On va créer un objet sample, qui contient 11 jours.\n",
    "\n",
    "# La première nous fournira les 40 données d'input, dans une liste, sous cette forme :\n",
    "# [Dow[i:i+10] Nasdaq[i:i+10] S&P[i:i+10] Rates[i:i+10]]\n",
    "class Sample(object):\n",
    "    def __init__(self, i):\n",
    "        self.xdates = np.array(processed.loc[i:i+9, 'Date'])\n",
    "        self.x = np.concatenate((\n",
    "            np.array(processed.loc[i:i+9, 'Nasdaq']),\n",
    "            np.array(processed.loc[i:i+9, 'Dow']),\n",
    "            np.array(processed.loc[i:i+9, 'S&P500']),\n",
    "            np.array(processed.loc[i:i+9, 'Rates'])\n",
    "        ))\n",
    "        self.ydate = np.array(processed.loc[i+10, 'Date'])\n",
    "        self.y = np.array([\n",
    "            processed.loc[i+10, 'Nasdaq'],\n",
    "            processed.loc[i+10, 'Dow'],\n",
    "            processed.loc[i+10, 'S&P500'],\n",
    "            processed.loc[i+10, 'Rates']\n",
    "        ])\n",
    "    \n",
    "sample = Sample(4)\n",
    "print(sample.x)\n",
    "print(sample.y)"
   ]
  },
  {
   "cell_type": "code",
   "execution_count": 42,
   "metadata": {
    "collapsed": false,
    "deletable": true,
    "editable": true
   },
   "outputs": [
    {
     "name": "stdout",
     "output_type": "stream",
     "text": [
      "642 276\n"
     ]
    }
   ],
   "source": [
    "p_train = 0.7\n",
    "p_test = 1 - p_train\n",
    "n = len(processed.Date.values)//11\n",
    "samples = [\n",
    "    Sample(i*11) for i in range(n)\n",
    "]\n",
    "from random import sample\n",
    "indices = sample(samples, int(p_train*n))\n",
    "train = np.array(indices)\n",
    "test = []\n",
    "for i in range(n):\n",
    "    if samples[i] not in train:\n",
    "        test.append(samples[i])\n",
    "\n",
    "test = np.array(test)\n",
    "\n",
    "print(len(train), len(test))\n",
    "\n",
    "trX = np.array([tr.x for tr in train])\n",
    "trY = np.array([tr.y for tr in train])\n",
    "teX = np.array([te.x for te in test])\n",
    "teY = np.array([te.y for te in test])"
   ]
  },
  {
   "cell_type": "code",
   "execution_count": 55,
   "metadata": {
    "collapsed": false,
    "deletable": true,
    "editable": true
   },
   "outputs": [],
   "source": [
    "# Rappel :\n",
    "# =====================================================================================================\n",
    "# X    : les inputs, shape [n x 40]\n",
    "# w_h1 : les poids du premier hidden layer, shape [40 x 41]\n",
    "# w_h2 : les poids du second hidden layer, shape [41 x 41]\n",
    "# w_o  : les poids du layer d'output, shape [41 x 4]\n",
    "# vérification : [n x 40] [40 x 41] [41 x 41] [41 x 4] = [n x 4]\n",
    "# =====================================================================================================\n",
    "\n",
    "X = tf.placeholder(\"float\", [None, 40])\n",
    "Y = tf.placeholder(\"float\", [None, 4])\n",
    "\n",
    "w_h = init_weights([40, 41])\n",
    "w_h2 = init_weights([41, 41])\n",
    "w_o = init_weights([41, 4])\n",
    "\n",
    "p_keep_input = tf.placeholder(\"float\")   # La probabilité qui peut changer\n",
    "p_keep_hidden = tf.placeholder(\"float\")  # La probabilité qui peut changer\n",
    "py_x = model(X, w_h, w_h2, w_o, p_keep_input, p_keep_hidden) # On construit le modèle avec X l'input externe\n",
    "\n",
    "cost = tf.reduce_mean(tf.nn.softmax_cross_entropy_with_logits(logits=py_x, labels=Y))\n",
    "train_op = tf.train.RMSPropOptimizer(0.001, 0.9).minimize(cost) # Ligne importante, tout se joue ici\n",
    "# On train avec un optimizer ..."
   ]
  },
  {
   "cell_type": "code",
   "execution_count": 56,
   "metadata": {
    "collapsed": true,
    "deletable": true,
    "editable": true
   },
   "outputs": [],
   "source": [
    "sess = tf.Session()\n",
    "\n",
    "# Init variables\n",
    "tf.global_variables_initializer().run(session=sess)"
   ]
  },
  {
   "cell_type": "code",
   "execution_count": 57,
   "metadata": {
    "collapsed": false,
    "deletable": true,
    "editable": true
   },
   "outputs": [
    {
     "name": "stdout",
     "output_type": "stream",
     "text": [
      "0 [[ 0.02366245  0.0099204   0.02473933  0.12695652]\n",
      " [ 0.02647029  0.01110588  0.02684198  0.12811594]\n",
      " [ 0.02494088  0.01107985  0.02581062  0.13043478]\n",
      " ..., \n",
      " [ 0.81017419  0.52306583  0.79680877  0.        ]\n",
      " [ 0.83273631  0.52970413  0.81433524  0.        ]\n",
      " [ 0.85737102  0.55058423  0.84220857  0.        ]] [[ 0.16150177 -0.14601834  0.20454258  0.21621916]\n",
      " [ 0.16150151 -0.14601822  0.20454276  0.21621904]\n",
      " [ 0.16150154 -0.14601821  0.20454264  0.21621908]\n",
      " ..., \n",
      " [ 0.16152002 -0.14602797  0.20456167  0.21624373]\n",
      " [ 0.16152096 -0.14602837  0.20456254  0.21624465]\n",
      " [ 0.16152124 -0.14602858  0.20456275  0.21624541]]\n",
      "200 [[ 0.02366245  0.0099204   0.02473933  0.12695652]\n",
      " [ 0.02647029  0.01110588  0.02684198  0.12811594]\n",
      " [ 0.02494088  0.01107985  0.02581062  0.13043478]\n",
      " ..., \n",
      " [ 0.81017419  0.52306583  0.79680877  0.        ]\n",
      " [ 0.83273631  0.52970413  0.81433524  0.        ]\n",
      " [ 0.85737102  0.55058423  0.84220857  0.        ]] [[ 165.3560791   164.94799805  165.40142822  165.20541382]\n",
      " [ 167.39718628  166.98406982  167.44308472  167.24464417]\n",
      " [ 166.30517578  165.89476013  166.35083008  166.15368652]\n",
      " ..., \n",
      " [ 326.70648193  325.900177    326.79602051  326.40872192]\n",
      " [ 326.70648193  325.900177    326.79602051  326.40872192]\n",
      " [ 326.70648193  325.900177    326.79602051  326.40872192]]\n",
      "400 [[ 0.02366245  0.0099204   0.02473933  0.12695652]\n",
      " [ 0.02647029  0.01110588  0.02684198  0.12811594]\n",
      " [ 0.02494088  0.01107985  0.02581062  0.13043478]\n",
      " ..., \n",
      " [ 0.81017419  0.52306583  0.79680877  0.        ]\n",
      " [ 0.83273631  0.52970413  0.81433524  0.        ]\n",
      " [ 0.85737102  0.55058423  0.84220857  0.        ]] [[ 330.82113647  330.41494751  330.86605835  330.67068481]\n",
      " [ 328.55447388  328.15112305  328.59921265  328.40512085]\n",
      " [ 329.71942139  329.3145752   329.76428223  329.56948853]\n",
      " ..., \n",
      " [ 666.6506958   665.83221436  666.74133301  666.34753418]\n",
      " [ 666.6506958   665.83221436  666.74133301  666.34753418]\n",
      " [ 666.6506958   665.83221436  666.74133301  666.34753418]]\n",
      "600 [[ 0.02366245  0.0099204   0.02473933  0.12695652]\n",
      " [ 0.02647029  0.01110588  0.02684198  0.12811594]\n",
      " [ 0.02494088  0.01107985  0.02581062  0.13043478]\n",
      " ..., \n",
      " [ 0.81017419  0.52306583  0.79680877  0.        ]\n",
      " [ 0.83273631  0.52970413  0.81433524  0.        ]\n",
      " [ 0.85737102  0.55058423  0.84220857  0.        ]] [[   34.08215332    34.04527283    34.08400345    34.04055405]\n",
      " [   22.05180359    22.02793884    22.05299568    22.02488708]\n",
      " [   26.83283615    26.8038044     26.83429146    26.80008888]\n",
      " ..., \n",
      " [ 1021.52398682  1020.41821289  1021.57873535  1020.27655029]\n",
      " [ 1021.52398682  1020.41821289  1021.57873535  1020.27655029]\n",
      " [ 1021.52398682  1020.41821289  1021.57873535  1020.27655029]]\n",
      "800 [[ 0.02366245  0.0099204   0.02473933  0.12695652]\n",
      " [ 0.02647029  0.01110588  0.02684198  0.12811594]\n",
      " [ 0.02494088  0.01107985  0.02581062  0.13043478]\n",
      " ..., \n",
      " [ 0.81017419  0.52306583  0.79680877  0.        ]\n",
      " [ 0.83273631  0.52970413  0.81433524  0.        ]\n",
      " [ 0.85737102  0.55058423  0.84220857  0.        ]] [[  7.67828166e-01   7.67071545e-01   7.67826676e-01   7.64975369e-01]\n",
      " [  5.72537243e-01   5.71973085e-01   5.72536170e-01   5.70410132e-01]\n",
      " [  6.63386583e-01   6.62732840e-01   6.63385391e-01   6.60922050e-01]\n",
      " ..., \n",
      " [  1.48335339e+03   1.48189185e+03   1.48335083e+03   1.47784241e+03]\n",
      " [  1.48335339e+03   1.48189185e+03   1.48335083e+03   1.47784241e+03]\n",
      " [  1.48335339e+03   1.48189185e+03   1.48335083e+03   1.47784241e+03]]\n",
      "1000 [[ 0.02366245  0.0099204   0.02473933  0.12695652]\n",
      " [ 0.02647029  0.01110588  0.02684198  0.12811594]\n",
      " [ 0.02494088  0.01107985  0.02581062  0.13043478]\n",
      " ..., \n",
      " [ 0.81017419  0.52306583  0.79680877  0.        ]\n",
      " [ 0.83273631  0.52970413  0.81433524  0.        ]\n",
      " [ 0.85737102  0.55058423  0.84220857  0.        ]] [[  2.72665024e-01   2.72451967e-01   2.72662818e-01   2.71264762e-01]\n",
      " [  1.71605051e-01   1.71470970e-01   1.71603650e-01   1.70723796e-01]\n",
      " [  2.16173694e-01   2.16004744e-01   2.16171965e-01   2.15063572e-01]\n",
      " ..., \n",
      " [  1.94661731e+03   1.94509619e+03   1.94660156e+03   1.93662097e+03]\n",
      " [  1.94661731e+03   1.94509619e+03   1.94660156e+03   1.93662097e+03]\n",
      " [  1.94661731e+03   1.94509619e+03   1.94660156e+03   1.93662097e+03]]\n",
      "1200 [[ 0.02366245  0.0099204   0.02473933  0.12695652]\n",
      " [ 0.02647029  0.01110588  0.02684198  0.12811594]\n",
      " [ 0.02494088  0.01107985  0.02581062  0.13043478]\n",
      " ..., \n",
      " [ 0.81017419  0.52306583  0.79680877  0.        ]\n",
      " [ 0.83273631  0.52970413  0.81433524  0.        ]\n",
      " [ 0.85737102  0.55058423  0.84220857  0.        ]] [[  1.23792194e-01   1.23712406e-01   1.23791628e-01   1.22953765e-01]\n",
      " [  6.42742366e-02   6.42327964e-02   6.42739311e-02   6.38388991e-02]\n",
      " [  8.88328776e-02   8.87756199e-02   8.88324603e-02   8.82312059e-02]\n",
      " ..., \n",
      " [  2.41037646e+03   2.40882251e+03   2.41036548e+03   2.39405054e+03]\n",
      " [  2.41037646e+03   2.40882251e+03   2.41036548e+03   2.39405054e+03]\n",
      " [  2.41037646e+03   2.40882251e+03   2.41036548e+03   2.39405054e+03]]\n"
     ]
    },
    {
     "ename": "KeyboardInterrupt",
     "evalue": "",
     "output_type": "error",
     "traceback": [
      "\u001b[0;31m---------------------------------------------------------------------------\u001b[0m",
      "\u001b[0;31mKeyboardInterrupt\u001b[0m                         Traceback (most recent call last)",
      "\u001b[0;32m<ipython-input-57-e424b9eff31a>\u001b[0m in \u001b[0;36m<module>\u001b[0;34m()\u001b[0m\n\u001b[1;32m      3\u001b[0m         \u001b[0;31m# batches of 10\u001b[0m\u001b[0;34m\u001b[0m\u001b[0;34m\u001b[0m\u001b[0m\n\u001b[1;32m      4\u001b[0m         sess.run(train_op, feed_dict={X: trX[start:end], Y: trY[start:end],\n\u001b[0;32m----> 5\u001b[0;31m                                           p_keep_input: 1.0, p_keep_hidden: 1.0})\n\u001b[0m\u001b[1;32m      6\u001b[0m     \u001b[0;32mif\u001b[0m \u001b[0mi\u001b[0m \u001b[0;34m%\u001b[0m \u001b[0;36m200\u001b[0m \u001b[0;34m==\u001b[0m \u001b[0;36m0\u001b[0m\u001b[0;34m:\u001b[0m\u001b[0;34m\u001b[0m\u001b[0m\n\u001b[1;32m      7\u001b[0m         \u001b[0mprint\u001b[0m\u001b[0;34m(\u001b[0m\u001b[0mi\u001b[0m\u001b[0;34m,\u001b[0m \u001b[0mteY\u001b[0m\u001b[0;34m,\u001b[0m \u001b[0msess\u001b[0m\u001b[0;34m.\u001b[0m\u001b[0mrun\u001b[0m\u001b[0;34m(\u001b[0m\u001b[0mpy_x\u001b[0m\u001b[0;34m,\u001b[0m \u001b[0mfeed_dict\u001b[0m\u001b[0;34m=\u001b[0m\u001b[0;34m{\u001b[0m\u001b[0mX\u001b[0m\u001b[0;34m:\u001b[0m \u001b[0mteX\u001b[0m\u001b[0;34m,\u001b[0m \u001b[0mY\u001b[0m\u001b[0;34m:\u001b[0m \u001b[0mteY\u001b[0m\u001b[0;34m,\u001b[0m \u001b[0mp_keep_input\u001b[0m\u001b[0;34m:\u001b[0m \u001b[0;36m1.0\u001b[0m\u001b[0;34m,\u001b[0m \u001b[0mp_keep_hidden\u001b[0m\u001b[0;34m:\u001b[0m \u001b[0;36m1.0\u001b[0m\u001b[0;34m}\u001b[0m\u001b[0;34m)\u001b[0m\u001b[0;34m)\u001b[0m\u001b[0;34m\u001b[0m\u001b[0m\n",
      "\u001b[0;32m/usr/lib/python3.5/site-packages/tensorflow/python/client/session.py\u001b[0m in \u001b[0;36mrun\u001b[0;34m(self, fetches, feed_dict, options, run_metadata)\u001b[0m\n\u001b[1;32m    765\u001b[0m     \u001b[0;32mtry\u001b[0m\u001b[0;34m:\u001b[0m\u001b[0;34m\u001b[0m\u001b[0m\n\u001b[1;32m    766\u001b[0m       result = self._run(None, fetches, feed_dict, options_ptr,\n\u001b[0;32m--> 767\u001b[0;31m                          run_metadata_ptr)\n\u001b[0m\u001b[1;32m    768\u001b[0m       \u001b[0;32mif\u001b[0m \u001b[0mrun_metadata\u001b[0m\u001b[0;34m:\u001b[0m\u001b[0;34m\u001b[0m\u001b[0m\n\u001b[1;32m    769\u001b[0m         \u001b[0mproto_data\u001b[0m \u001b[0;34m=\u001b[0m \u001b[0mtf_session\u001b[0m\u001b[0;34m.\u001b[0m\u001b[0mTF_GetBuffer\u001b[0m\u001b[0;34m(\u001b[0m\u001b[0mrun_metadata_ptr\u001b[0m\u001b[0;34m)\u001b[0m\u001b[0;34m\u001b[0m\u001b[0m\n",
      "\u001b[0;32m/usr/lib/python3.5/site-packages/tensorflow/python/client/session.py\u001b[0m in \u001b[0;36m_run\u001b[0;34m(self, handle, fetches, feed_dict, options, run_metadata)\u001b[0m\n\u001b[1;32m    963\u001b[0m     \u001b[0;32mif\u001b[0m \u001b[0mfinal_fetches\u001b[0m \u001b[0;32mor\u001b[0m \u001b[0mfinal_targets\u001b[0m\u001b[0;34m:\u001b[0m\u001b[0;34m\u001b[0m\u001b[0m\n\u001b[1;32m    964\u001b[0m       results = self._do_run(handle, final_targets, final_fetches,\n\u001b[0;32m--> 965\u001b[0;31m                              feed_dict_string, options, run_metadata)\n\u001b[0m\u001b[1;32m    966\u001b[0m     \u001b[0;32melse\u001b[0m\u001b[0;34m:\u001b[0m\u001b[0;34m\u001b[0m\u001b[0m\n\u001b[1;32m    967\u001b[0m       \u001b[0mresults\u001b[0m \u001b[0;34m=\u001b[0m \u001b[0;34m[\u001b[0m\u001b[0;34m]\u001b[0m\u001b[0;34m\u001b[0m\u001b[0m\n",
      "\u001b[0;32m/usr/lib/python3.5/site-packages/tensorflow/python/client/session.py\u001b[0m in \u001b[0;36m_do_run\u001b[0;34m(self, handle, target_list, fetch_list, feed_dict, options, run_metadata)\u001b[0m\n\u001b[1;32m   1013\u001b[0m     \u001b[0;32mif\u001b[0m \u001b[0mhandle\u001b[0m \u001b[0;32mis\u001b[0m \u001b[0;32mNone\u001b[0m\u001b[0;34m:\u001b[0m\u001b[0;34m\u001b[0m\u001b[0m\n\u001b[1;32m   1014\u001b[0m       return self._do_call(_run_fn, self._session, feed_dict, fetch_list,\n\u001b[0;32m-> 1015\u001b[0;31m                            target_list, options, run_metadata)\n\u001b[0m\u001b[1;32m   1016\u001b[0m     \u001b[0;32melse\u001b[0m\u001b[0;34m:\u001b[0m\u001b[0;34m\u001b[0m\u001b[0m\n\u001b[1;32m   1017\u001b[0m       return self._do_call(_prun_fn, self._session, handle, feed_dict,\n",
      "\u001b[0;32m/usr/lib/python3.5/site-packages/tensorflow/python/client/session.py\u001b[0m in \u001b[0;36m_do_call\u001b[0;34m(self, fn, *args)\u001b[0m\n\u001b[1;32m   1020\u001b[0m   \u001b[0;32mdef\u001b[0m \u001b[0m_do_call\u001b[0m\u001b[0;34m(\u001b[0m\u001b[0mself\u001b[0m\u001b[0;34m,\u001b[0m \u001b[0mfn\u001b[0m\u001b[0;34m,\u001b[0m \u001b[0;34m*\u001b[0m\u001b[0margs\u001b[0m\u001b[0;34m)\u001b[0m\u001b[0;34m:\u001b[0m\u001b[0;34m\u001b[0m\u001b[0m\n\u001b[1;32m   1021\u001b[0m     \u001b[0;32mtry\u001b[0m\u001b[0;34m:\u001b[0m\u001b[0;34m\u001b[0m\u001b[0m\n\u001b[0;32m-> 1022\u001b[0;31m       \u001b[0;32mreturn\u001b[0m \u001b[0mfn\u001b[0m\u001b[0;34m(\u001b[0m\u001b[0;34m*\u001b[0m\u001b[0margs\u001b[0m\u001b[0;34m)\u001b[0m\u001b[0;34m\u001b[0m\u001b[0m\n\u001b[0m\u001b[1;32m   1023\u001b[0m     \u001b[0;32mexcept\u001b[0m \u001b[0merrors\u001b[0m\u001b[0;34m.\u001b[0m\u001b[0mOpError\u001b[0m \u001b[0;32mas\u001b[0m \u001b[0me\u001b[0m\u001b[0;34m:\u001b[0m\u001b[0;34m\u001b[0m\u001b[0m\n\u001b[1;32m   1024\u001b[0m       \u001b[0mmessage\u001b[0m \u001b[0;34m=\u001b[0m \u001b[0mcompat\u001b[0m\u001b[0;34m.\u001b[0m\u001b[0mas_text\u001b[0m\u001b[0;34m(\u001b[0m\u001b[0me\u001b[0m\u001b[0;34m.\u001b[0m\u001b[0mmessage\u001b[0m\u001b[0;34m)\u001b[0m\u001b[0;34m\u001b[0m\u001b[0m\n",
      "\u001b[0;32m/usr/lib/python3.5/site-packages/tensorflow/python/client/session.py\u001b[0m in \u001b[0;36m_run_fn\u001b[0;34m(session, feed_dict, fetch_list, target_list, options, run_metadata)\u001b[0m\n\u001b[1;32m   1002\u001b[0m         return tf_session.TF_Run(session, options,\n\u001b[1;32m   1003\u001b[0m                                  \u001b[0mfeed_dict\u001b[0m\u001b[0;34m,\u001b[0m \u001b[0mfetch_list\u001b[0m\u001b[0;34m,\u001b[0m \u001b[0mtarget_list\u001b[0m\u001b[0;34m,\u001b[0m\u001b[0;34m\u001b[0m\u001b[0m\n\u001b[0;32m-> 1004\u001b[0;31m                                  status, run_metadata)\n\u001b[0m\u001b[1;32m   1005\u001b[0m \u001b[0;34m\u001b[0m\u001b[0m\n\u001b[1;32m   1006\u001b[0m     \u001b[0;32mdef\u001b[0m \u001b[0m_prun_fn\u001b[0m\u001b[0;34m(\u001b[0m\u001b[0msession\u001b[0m\u001b[0;34m,\u001b[0m \u001b[0mhandle\u001b[0m\u001b[0;34m,\u001b[0m \u001b[0mfeed_dict\u001b[0m\u001b[0;34m,\u001b[0m \u001b[0mfetch_list\u001b[0m\u001b[0;34m)\u001b[0m\u001b[0;34m:\u001b[0m\u001b[0;34m\u001b[0m\u001b[0m\n",
      "\u001b[0;31mKeyboardInterrupt\u001b[0m: "
     ]
    }
   ],
   "source": [
    "for i in range(200000):\n",
    "    for start, end in zip(range(0, len(trX), 10), range(10, len(trX)+1, 10)):\n",
    "        # batches of 10\n",
    "        sess.run(train_op, feed_dict={X: trX[start:end], Y: trY[start:end],\n",
    "                                          p_keep_input: 1.0, p_keep_hidden: 1.0})\n",
    "    if i % 200 == 0:\n",
    "        print(i, teY, sess.run(py_x, feed_dict={X: teX, Y: teY, p_keep_input: 1.0, p_keep_hidden: 1.0}))"
   ]
  },
  {
   "cell_type": "code",
   "execution_count": 53,
   "metadata": {
    "collapsed": false,
    "deletable": true,
    "editable": true
   },
   "outputs": [
    {
     "name": "stdout",
     "output_type": "stream",
     "text": [
      "[[ 0.02366245  0.0099204   0.02473933  0.12695652]\n",
      " [ 0.02647029  0.01110588  0.02684198  0.12811594]\n",
      " [ 0.02494088  0.01107985  0.02581062  0.13043478]\n",
      " [ 0.02049175  0.01012666  0.0222308   0.15942029]\n",
      " [ 0.02185777  0.0109597   0.02362812  0.15362319]] \n",
      " [[  1.24919533e+12   1.24919402e+12   1.24919428e+12   1.24919703e+12]\n",
      " [  2.14952929e+12   2.14952758e+12   2.14952837e+12   2.14953008e+12]\n",
      " [  1.75960805e+12   1.75960634e+12   1.75960726e+12   1.75960923e+12]\n",
      " [  6.18552689e+11   6.18551771e+11   6.18551247e+11   6.18555703e+11]\n",
      " [  1.19751652e+12   1.19751508e+12   1.19751508e+12   1.19751875e+12]]\n"
     ]
    }
   ],
   "source": [
    "print(teY[0:5], '\\n', sess.run(py_x, feed_dict={X: teX[0:5], Y: teY[0:5], p_keep_input: 1.0, p_keep_hidden: 1.0}))"
   ]
  }
 ],
 "metadata": {
  "kernelspec": {
   "display_name": "Python 3",
   "language": "python",
   "name": "python3"
  },
  "language_info": {
   "codemirror_mode": {
    "name": "ipython",
    "version": 3
   },
   "file_extension": ".py",
   "mimetype": "text/x-python",
   "name": "python",
   "nbconvert_exporter": "python",
   "pygments_lexer": "ipython3",
   "version": "3.5.2"
  }
 },
 "nbformat": 4,
 "nbformat_minor": 2
}
